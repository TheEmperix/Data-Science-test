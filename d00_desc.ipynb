{
  "nbformat": 4,
  "nbformat_minor": 0,
  "metadata": {
    "colab": {
      "name": "d00_desc.ipynb",
      "provenance": [],
      "collapsed_sections": [],
      "authorship_tag": "ABX9TyNKUXkznVJxQlDWEb21E3yg",
      "include_colab_link": true
    },
    "kernelspec": {
      "name": "python3",
      "display_name": "Python 3"
    },
    "language_info": {
      "name": "python"
    }
  },
  "cells": [
    {
      "cell_type": "markdown",
      "metadata": {
        "id": "view-in-github",
        "colab_type": "text"
      },
      "source": [
        "<a href=\"https://colab.research.google.com/github/TheEmperix/Data-Science-test/blob/master/d00_desc.ipynb\" target=\"_parent\"><img src=\"https://colab.research.google.com/assets/colab-badge.svg\" alt=\"Open In Colab\"/></a>"
      ]
    },
    {
      "cell_type": "code",
      "execution_count": null,
      "metadata": {
        "id": "DT_MO11dXdsN"
      },
      "outputs": [],
      "source": [
        "total_days = 7 * 4\n",
        "\n",
        "days_per2 = total_days - 1\n",
        "\n",
        "days_per3 = total_days - 2\n",
        "\n",
        "days_per4 = total_days - 3\n",
        "\n",
        "total_hours1 = 12 * (total_days // 4 * 2 + min(total_days % 4, 2))\n",
        "\n",
        "total_hours2 = 12 * (days_per2 // 4 * 2 + min(days_per2 % 4, 2))\n",
        "\n",
        "total_hours3 = 12 * (days_per3 // 4 * 2 + min(days_per3 % 4, 2))\n",
        "\n",
        "total_hours4 = 12 * (days_per4 // 4 * 2 + min(days_per4 % 4, 2))\n",
        "\n",
        "total_hours_all = total_hours1 + total_hours2 + total_hours3 + total_hours4\n",
        "print(total_hours1, 'ч.')\n",
        "\n",
        "print(total_hours2, 'ч.')\n",
        "\n",
        "print(total_hours3, 'ч.')\n",
        "\n",
        "print(total_hours4, 'ч.')\n",
        "\n",
        "print(total_hours_all, 'ч.')"
      ]
    },
    {
      "cell_type": "code",
      "source": [
        "def time_metric_down(time, metric, metric_down):\n",
        "    if metric == 'w':\n",
        "        if metric_down == 'd':\n",
        "            x = 7\n",
        "        elif metric_down == 'h':\n",
        "            x = 7 * 24\n",
        "        elif metric_down == 'm':\n",
        "            x = 7 * 24 * 60\n",
        "        elif metric_down == 's':\n",
        "            x = 7 * 24 * 60 * 60\n",
        "        else:\n",
        "            return time\n",
        "    elif metric == 'd':\n",
        "        if metric_down == 'h':\n",
        "            x = 24\n",
        "        elif metric_down == 'm':\n",
        "            x = 24 * 60\n",
        "        elif metric_down == 's':\n",
        "            x = 24 * 60 * 60\n",
        "        else:\n",
        "            return time\n",
        "    elif metric == 'h':\n",
        "        if metric_down == 'm':\n",
        "            x = 60\n",
        "        elif metric_down == 's':\n",
        "            x = 60 * 60\n",
        "        return time\n",
        "    elif metric == 'm':\n",
        "        x = 60\n",
        "        if metric_down == 'm':\n",
        "            return time\n",
        "    else:\n",
        "        return time\n",
        "    return time * x\n",
        "print(time_metric_down(1,'d','s'))"
      ],
      "metadata": {
        "id": "QdZAxgh5X6N9"
      },
      "execution_count": null,
      "outputs": []
    },
    {
      "cell_type": "code",
      "source": [
        "import math\n",
        "\n",
        "def factorial1(n):\n",
        "  if n == 1 or n == 0:\n",
        "    return 1\n",
        "  else:\n",
        "    return n * factorial1(n -1)\n",
        "def best_fctrl(n):\n",
        "  return math.factorial(n)\n",
        "def factorial3(n):\n",
        "  factorial = 1\n",
        "  while n > 1:\n",
        "    factorial *= n\n",
        "    n -= 1\n",
        "  return factorial"
      ],
      "metadata": {
        "id": "rnJ6qfZ2rkrD"
      },
      "execution_count": null,
      "outputs": []
    },
    {
      "cell_type": "code",
      "source": [
        "import math\n",
        "\n",
        "\n",
        "def new_worker():\n",
        "\n",
        "    workers = int(input('Введите количество сотрудников: '))\n",
        "    task = int(input('Введите количество заданий: '))\n",
        "    time = int(input('Введите время, на выполнение одного задания: '))\n",
        "    overall_time = int(input('Введите время, в которое нужно уложиться: '))\n",
        "\n",
        "    if overall_time < time:\n",
        "        return\n",
        "    turn = overall_time // time\n",
        "    workers_need = math.ceil(task // turn)\n",
        "    if workers_need > workers:\n",
        "        return workers_need - workers\n",
        "    else:\n",
        "        return 0\n",
        "\n",
        "\n",
        "print('Требуемое количество сотрудников:', new_worker())"
      ],
      "metadata": {
        "id": "wokgRAn9ylQl"
      },
      "execution_count": null,
      "outputs": []
    }
  ]
}