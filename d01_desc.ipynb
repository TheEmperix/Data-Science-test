{
  "cells": [
    {
      "cell_type": "markdown",
      "metadata": {
        "id": "view-in-github",
        "colab_type": "text"
      },
      "source": [
        "<a href=\"https://colab.research.google.com/github/TheEmperix/Data-Science-test/blob/master/d01_desc.ipynb\" target=\"_parent\"><img src=\"https://colab.research.google.com/assets/colab-badge.svg\" alt=\"Open In Colab\"/></a>"
      ]
    },
    {
      "cell_type": "markdown",
      "metadata": {
        "id": "AeV1bOHvRJP5"
      },
      "source": [
        "# day01 - Трудно жить без даты!\n",
        "\n",
        "---"
      ]
    },
    {
      "cell_type": "markdown",
      "metadata": {
        "id": "ZhuzkKMiRJP8"
      },
      "source": [
        "Импортируем библиотеки с которыми мы уже встречались, и которые нам понадобятся в дальнейшем:"
      ]
    },
    {
      "cell_type": "code",
      "execution_count": null,
      "metadata": {
        "id": "qIW6Sa8cRJP9"
      },
      "outputs": [],
      "source": [
        "import pandas as pd\n",
        "import numpy as np\n",
        "import math\n",
        "from datetime import datetime, timedelta, date, time"
      ]
    },
    {
      "cell_type": "markdown",
      "metadata": {
        "id": "94LQ3UfcRJP9"
      },
      "source": [
        "---\n",
        "\n",
        "## Неоднозначное соответствие единиц измерения времени\n",
        "\n",
        "В этом разделе представлены величины, имеющие несколько значений. Именно эти величины чаще всего используются в повседневной жизни, поэтому необходимо научиться их рассчитывать.\n",
        "\n",
        "- месяц - примерно 30 суток (от 28 до 31):\n",
        "    - январь, март, май, июль, август, октябрь и декабрь - 31 день\n",
        "    - апрель, июнь, сентябрь, ноябрь - 30 дней\n",
        "    - февраль - 28 или 29 дней\n",
        "- в году от 52 до 54 недель в зависимости от способа счисления, которые различаются, например, в США и Канаде от Европы\n",
        "- согласно ISO 8601, первой неделей года считается неделя, содержащая первый четверг года\n",
        "    - если 1 января или 31 декабря выпадает на четверг (или 1 января выпадает на среду в високосный год), то год содержит 53 недели\n",
        "    - в остальных случаях год содержит 52 недели\n",
        "- год содержит 365 или 366 дней\n",
        "- Високосный год определяется согласно следующим правилам:\n",
        "    - если год без остатка делится на 400, то это високосный год\n",
        "    - если год без остатка делится на 4 и при делении на 100 имеет остаток, то это високосный год\n",
        "    - в остальных случаях год не является високосным"
      ]
    },
    {
      "cell_type": "markdown",
      "metadata": {
        "id": "6_Mi38f7RJP-"
      },
      "source": [
        "---\n",
        "\n",
        "Научимся определять високосный год. Напишем для этого функцию, которая будет возвращать True, если год високосный и False, в противном случае:"
      ]
    },
    {
      "cell_type": "code",
      "execution_count": null,
      "metadata": {
        "id": "eiXeZdgvRJP_"
      },
      "outputs": [],
      "source": [
        "def day366(year):\n",
        "    return (year % 4 == 0) and (year % 100 != 0) or (year % 400 == 0)"
      ]
    },
    {
      "cell_type": "markdown",
      "metadata": {
        "id": "xo4RMlkkRJP_"
      },
      "source": [
        "---\n",
        "\n",
        "Проверим, как работает наша функция на тестовых данных 2000, 2019, 2020, 2021 и 2100 годов:"
      ]
    },
    {
      "cell_type": "code",
      "execution_count": null,
      "metadata": {
        "id": "lMarIU2DRJQA",
        "outputId": "8a08dd77-992f-4b02-8932-7a01b87a6fb9",
        "colab": {
          "base_uri": "https://localhost:8080/"
        }
      },
      "outputs": [
        {
          "output_type": "stream",
          "name": "stdout",
          "text": [
            "1900 False\n",
            "2000 True\n",
            "2019 False\n",
            "2020 True\n",
            "2021 False\n",
            "2100 False\n"
          ]
        }
      ],
      "source": [
        "years = [1900, 2000, 2019, 2020, 2021, 2100]\n",
        "for j in years:\n",
        "    print(j, day366(j))"
      ]
    },
    {
      "cell_type": "markdown",
      "metadata": {
        "id": "XnFW9R_VRJQA"
      },
      "source": [
        "---\n",
        "\n",
        "# Задание 1\n",
        "\n",
        "Поздравить знакомого с Днем Рождения коротким сообщением для большинства из нас не составляет труда. С другой стороны проявленный акт внимания создает хорошее настроение и сохраняет социальные связи. Напишите код, который определяет дату рождения в игровой форме.  \n",
        "Пример:\n",
        "Один человек выясняет у другого дату рождения:\n",
        "   - У тебя День рождения в июне?\n",
        "   - Раньше.\n",
        "   - В апреле?\n",
        "   - Да.\n",
        "   - 15-го числа?\n",
        "   - Позже.\n",
        "   - 20-го?\n",
        "   - Да.\n",
        "   - У тебя День Рождения 20 апреля\n",
        "   \n",
        "Механизм взаимодействия:\n",
        "1. Функция get_month() формирует запросы к функции month_of_birth(month)\n",
        "2. Функция month_of_birth(month, m_o_b = number_of_month) проверяет month == m_o_b:\n",
        "  - Если равны, то функция возвращает значение 'да'\n",
        "  - Если month > m_o_b, то значение 'раньше'\n",
        "  - Если month < m_o_b, то значение 'позже'\n",
        "3. Как только получено значение 'да', get_month() прекращает работу и возвращает значение полученного month, переведенного в название месяца\n",
        "4. Функция get_day() формирует запросы к функции day_of_birth(day)\n",
        "5. Функция day_of_birth(day, d_o_b = number_of_day) проверяет day == d_o_b:\n",
        "    - Если равны, то функция возвращает значение 'да'\n",
        "    - Если day > d_o_b, то значение 'раньше'\n",
        "    - Если day < d_o_b, то значение 'позже'\n",
        "6. Как только получено значение 'да', get_day() прекращает работу и возвращает значение полученного day\n",
        "7. Публикация результата в формате \"число месяц\", например, 20 апреля\n",
        "Вам нужно написать код так, чтобы, поменявшись функциями get, вам не пришлось редактировать код для его выполнения. Постарайтесь разработать алгоритм, чтобы общее число запросов не превышало 10.\n",
        "\n",
        "*Рекомендация: Для того, чтобы точно были совместимы возвращаемые функциями ответы, лучше принудительно приводить строку к строчным буквам и без пробелов. Для этого используйте следующий код:*\n",
        "\n",
        "***s = s.lower().replace(' ', '')*** *здесь s - это строка, требующая изменений*\n",
        "\n",
        "Дополнительная информация по работе со строковыми переменными:\n",
        "\n",
        "[Официальная документация](https://docs.python.org/3/library/stdtypes.html#text-sequence-type-str)\n",
        "\n",
        "[Справочник основных функций на русском языке](https://pythonworld.ru/tipy-dannyx-v-python/stroki-funkcii-i-metody-strok.html)\n",
        "\n",
        "---"
      ]
    },
    {
      "cell_type": "code",
      "execution_count": 2,
      "metadata": {
        "id": "_In5W13NRJQC",
        "colab": {
          "base_uri": "https://localhost:8080/"
        },
        "outputId": "a9020786-67a2-485c-bd9c-c98775253b8e"
      },
      "outputs": [
        {
          "output_type": "stream",
          "name": "stdout",
          "text": [
            "16 раньше\n",
            "8 раньше\n",
            "4 да\n",
            "июня да\n",
            "4 июня\n"
          ]
        }
      ],
      "source": [
        "\"\"\"Решение задания 1\"\"\"\n",
        "\n",
        "number_of_month = 6              # глобальная переменная месяца даты рождения, необходимо присвоение значения\n",
        "number_of_day = 4                 # глобальная переменная дня даты рождения, необходимо присвоение значения\n",
        "\n",
        "def month_of_birth(month, m_o_b = number_of_month):\n",
        "    \"Функция принимает значение month, сравнивает с m_o_b и возвращает результаты сравнения\"\n",
        "    if (month == m_o_b):\n",
        "        return 'да'\n",
        "    if (month > m_o_b):\n",
        "        return 'раньше'\n",
        "    return 'позже'\n",
        "    \n",
        "def day_of_birth(day, d_o_b = number_of_day):\n",
        "    \"Функция принимает значение day, сравнивает его с d_o_b и возвращает результаты сравнения\"\n",
        "    if (day == d_o_b):\n",
        "        return 'да'\n",
        "    if (day > d_o_b):\n",
        "        return 'раньше'\n",
        "    return 'позже'\n",
        "    \n",
        "def get_month():\n",
        "    \"\"\"Функция формирует запросы month и анализирует результаты сравнения, переводит номер найденного месяца в \n",
        "    строку его названия и возвращает результат\"\"\"\n",
        "    month = ['января', 'февраля', 'марта', 'апреля', 'мая', 'июня', 'июля', 'августа', 'сентября', 'октября', 'ноября', 'декабря']\n",
        "    left = 1\n",
        "    right = 12\n",
        "    mid = (left + right) // 2\n",
        "    res = month_of_birth(mid)\n",
        "    print(month[mid - 1], res)\n",
        "    while res != 'да':\n",
        "        if (res == 'позже'):\n",
        "            left = mid + 1\n",
        "        else:\n",
        "            right = mid - 1\n",
        "        mid = (left + right) // 2\n",
        "        res = month_of_birth(mid)\n",
        "        print(month[mid - 1], res)\n",
        "    return month[mid - 1]\n",
        "\n",
        "def get_day():\n",
        "    \"Функция формирует запросы day и анализирует результаты сравнения, возвращает результат\"\n",
        "    left = 1\n",
        "    right = 31\n",
        "    mid = (left + right) // 2\n",
        "    res = day_of_birth(mid)\n",
        "    print(mid, res)\n",
        "    while res != 'да':\n",
        "        if (res == 'позже'):\n",
        "            left = mid + 1\n",
        "        else:\n",
        "            right = mid - 1\n",
        "        mid = (left + right) // 2\n",
        "        res = day_of_birth(mid)\n",
        "        print(mid, res)\n",
        "    return mid\n",
        "\n",
        "def birthday():                    # функция, запускающая процесс определения даты рождения и выводящая результат\n",
        "    print(get_day(), get_month())\n",
        "    \n",
        "birthday()"
      ]
    },
    {
      "cell_type": "markdown",
      "metadata": {
        "id": "KZwiFqJoRJQD"
      },
      "source": [
        "---\n",
        "\n",
        "## Классы и методы модуля DateTime\n",
        "\n",
        "Модуль [DateTime](https://docs.python.org/3/library/datetime.html) предназначен для управления датами и временем в Python. "
      ]
    },
    {
      "cell_type": "code",
      "execution_count": null,
      "metadata": {
        "id": "V6kDfZgfRJQD"
      },
      "outputs": [],
      "source": [
        "from datetime import datetime, timedelta, date, time"
      ]
    },
    {
      "cell_type": "code",
      "execution_count": null,
      "metadata": {
        "id": "mZoSRWmQRJQD",
        "outputId": "fb4ef8c1-b358-456d-ebff-848e9e136934",
        "colab": {
          "base_uri": "https://localhost:8080/"
        }
      },
      "outputs": [
        {
          "output_type": "execute_result",
          "data": {
            "text/plain": [
              "datetime.datetime(2022, 4, 3, 13, 10, 17, 495089)"
            ]
          },
          "metadata": {},
          "execution_count": 25
        }
      ],
      "source": [
        "Time_Now = datetime.now() # возвращает текущие дату и время (год, месяц, число, час, минута, секунда, микросекунда)\n",
        "Time_Now "
      ]
    },
    {
      "cell_type": "code",
      "execution_count": null,
      "metadata": {
        "id": "atWiWSesRJQE",
        "outputId": "d53aa4a1-fdb4-4eb4-f83d-4575178090f5",
        "colab": {
          "base_uri": "https://localhost:8080/"
        }
      },
      "outputs": [
        {
          "output_type": "execute_result",
          "data": {
            "text/plain": [
              "datetime.date(2022, 4, 3)"
            ]
          },
          "metadata": {},
          "execution_count": 26
        }
      ],
      "source": [
        "datetime.date(Time_Now) # отсекает время и оставляет только дату"
      ]
    },
    {
      "cell_type": "code",
      "execution_count": null,
      "metadata": {
        "id": "eGiSC4U-RJQE",
        "outputId": "629b515f-b360-44c5-a383-36f96a4a24d5",
        "colab": {
          "base_uri": "https://localhost:8080/"
        }
      },
      "outputs": [
        {
          "output_type": "execute_result",
          "data": {
            "text/plain": [
              "datetime.time(13, 10, 17, 495089)"
            ]
          },
          "metadata": {},
          "execution_count": 27
        }
      ],
      "source": [
        "datetime.time(Time_Now) # отсекает дату, оставляя только время"
      ]
    },
    {
      "cell_type": "code",
      "execution_count": null,
      "metadata": {
        "id": "uUF05YO8RJQE",
        "outputId": "acdc8b26-c9f4-4d86-ea35-e87d8476f80a",
        "colab": {
          "base_uri": "https://localhost:8080/"
        }
      },
      "outputs": [
        {
          "output_type": "stream",
          "name": "stdout",
          "text": [
            "2022-04-03T13:10:17.495089\n",
            "2022-04-03 13:10:17.495089\n",
            "2022-04-03 13:10:17\n"
          ]
        }
      ],
      "source": [
        "print(datetime.isoformat(Time_Now, sep='T'))                       # Дата и время с разделителем 'T'\n",
        "print(datetime.isoformat(Time_Now, sep=' '))                       # Дата и время с разделителем ' '\n",
        "print(datetime.isoformat(Time_Now, timespec = 'seconds', sep=' ')) # С детализацией до секунд"
      ]
    },
    {
      "cell_type": "code",
      "execution_count": null,
      "metadata": {
        "id": "AGNUwscsRJQF",
        "outputId": "26d24385-b4db-45e5-f5ac-0572af7cf07a",
        "colab": {
          "base_uri": "https://localhost:8080/"
        }
      },
      "outputs": [
        {
          "output_type": "execute_result",
          "data": {
            "text/plain": [
              "(2022, 13, 7)"
            ]
          },
          "metadata": {},
          "execution_count": 29
        }
      ],
      "source": [
        "datetime.isocalendar(Time_Now) # Возвращает в соответствии с ISO год, номер недели, номер дня недели"
      ]
    },
    {
      "cell_type": "code",
      "execution_count": null,
      "metadata": {
        "id": "tR4d66PDRJQF",
        "outputId": "1e13fb8a-be62-49f7-b0cb-ed229430273a",
        "colab": {
          "base_uri": "https://localhost:8080/"
        }
      },
      "outputs": [
        {
          "output_type": "execute_result",
          "data": {
            "text/plain": [
              "7"
            ]
          },
          "metadata": {},
          "execution_count": 30
        }
      ],
      "source": [
        "datetime.isoweekday(Time_Now) # Номер дня недели (понедельник - 1)"
      ]
    },
    {
      "cell_type": "code",
      "execution_count": null,
      "metadata": {
        "id": "QjEvaFwRRJQF",
        "outputId": "a78ba344-e3af-480d-8a24-68652c000406",
        "colab": {
          "base_uri": "https://localhost:8080/"
        }
      },
      "outputs": [
        {
          "output_type": "execute_result",
          "data": {
            "text/plain": [
              "datetime.datetime(2021, 1, 1, 0, 0, 1)"
            ]
          },
          "metadata": {},
          "execution_count": 31
        }
      ],
      "source": [
        "new_year = datetime.strptime('2021-01-01 00:00:01', '%Y-%m-%d %H:%M:%S') # Распознаем из строки дату и время \n",
        "new_year                                                                 # согласно формату '%Y-%m-%d %H:%M:%S'"
      ]
    },
    {
      "cell_type": "code",
      "execution_count": null,
      "metadata": {
        "id": "5SMqIM5ORJQG",
        "outputId": "a9a9aa33-035f-411a-c7ff-8692ffa094f0",
        "colab": {
          "base_uri": "https://localhost:8080/",
          "height": 35
        }
      },
      "outputs": [
        {
          "output_type": "execute_result",
          "data": {
            "text/plain": [
              "'Friday, 01. January 2021 00:00'"
            ],
            "application/vnd.google.colaboratory.intrinsic+json": {
              "type": "string"
            }
          },
          "metadata": {},
          "execution_count": 32
        }
      ],
      "source": [
        "new_year.strftime(\"%A, %d. %B %Y %H:%M\") # преобразуем дату и время к строке"
      ]
    },
    {
      "cell_type": "code",
      "execution_count": null,
      "metadata": {
        "id": "lvIN20stRJQG",
        "outputId": "0062487c-523f-4722-f89e-031dc9313410",
        "colab": {
          "base_uri": "https://localhost:8080/"
        }
      },
      "outputs": [
        {
          "output_type": "execute_result",
          "data": {
            "text/plain": [
              "datetime.timedelta(days=457, seconds=47416, microseconds=495089)"
            ]
          },
          "metadata": {},
          "execution_count": 33
        }
      ],
      "source": [
        "delta = Time_Now - new_year # Разница между датами, выраженная в днях, секундах и микросекундах\n",
        "delta"
      ]
    },
    {
      "cell_type": "code",
      "execution_count": null,
      "metadata": {
        "id": "j6SVHngTRJQH",
        "outputId": "da55b072-6086-43be-e7bc-b2bf905a713f",
        "colab": {
          "base_uri": "https://localhost:8080/"
        }
      },
      "outputs": [
        {
          "output_type": "execute_result",
          "data": {
            "text/plain": [
              "457"
            ]
          },
          "metadata": {},
          "execution_count": 34
        }
      ],
      "source": [
        "delta.days"
      ]
    },
    {
      "cell_type": "code",
      "execution_count": null,
      "metadata": {
        "id": "Tn_sc_dyRJQH",
        "outputId": "6c9aec2b-8e2f-4659-de5c-a335dd2fca1d",
        "colab": {
          "base_uri": "https://localhost:8080/"
        }
      },
      "outputs": [
        {
          "output_type": "execute_result",
          "data": {
            "text/plain": [
              "47416"
            ]
          },
          "metadata": {},
          "execution_count": 35
        }
      ],
      "source": [
        "delta.seconds"
      ]
    },
    {
      "cell_type": "markdown",
      "metadata": {
        "id": "68inDQGJRJQH"
      },
      "source": [
        "---\n",
        "\n",
        "# Задание 2\n",
        "\n",
        "Требуется написать код, рассчитывающий количество рабочих часов с использованием методов модуля datetime.\n",
        "Требования к коду:\n",
        "1. Написать функцию *input_date()*, которая запрашивает у пользователя диапазон дат, на котором считается рабочее время. Граничные даты включаются в расчет. Функция возвращает две переменные с датами *start_date, end_date*.\n",
        "2. Написать функцию *date_to_datetime(start_date, end_date)*, которая преобразует даты в формат datetime. Функция возвращает переменные *start_date, end_date*, преобразованные к формату datetime.\n",
        "3. Написать функцию *delta_time(start_date, end_date)*, которая рассчитывает разницу во времени. По результату работы функции, в переменную *delta* функции, которая вызвала delta_time, должно быть записано общее количество оцениваемых дней.\n",
        "4. Написать функцию *day_of_the_week(start_date)*, которая возвращает номер дня недели, соответствующий началу оцениваемого периода, в переменную *start_day_of_the_week*.\n",
        "5. Написать функцию *calculating_hours(start_day_of_the_week, delta)*, которая возвращает количество рабочих часов за указанный период (и, таким образом, является точкой входа в нашу программу).\n",
        "6. Сформировать тестовые данные и протестировать программу.\n",
        "\n",
        "Упрощения:\n",
        "1. Пятидневная рабочая неделя, суббота и воскресенье - выходные;\n",
        "2. Каждый день отрабатывается ровно 8 часов;\n",
        "3. Праздники, отгулы, отпуска и больничные отсутствуют"
      ]
    },
    {
      "cell_type": "code",
      "execution_count": null,
      "metadata": {
        "id": "wpgC_lciRJQI"
      },
      "outputs": [],
      "source": [
        "\"\"\"Решение задания 2\"\"\"\n",
        "\n",
        "def input_date():\n",
        "    start_date = input('Введите дату начала диапазона в формате YYYY-MM-DD: ')\n",
        "    end_date = input('Введите дату конца диапазона в формату YYYY-MM-DD: ')\n",
        "    return start_date, end_date\n",
        "\n",
        "def date_to_datetime(start_date, end_date):\n",
        "    start_date = datetime.strptime(start_date, '%Y-%m-%d')\n",
        "    end_date = datetime.strptime(end_date, '%Y-%m-%d')\n",
        "    return start_date, end_date\n",
        "\n",
        "def delta_time(start_date, end_date):\n",
        "    delta = end_date - start_date\n",
        "    delta = delta.days + 1\n",
        "    return delta   \n",
        "\n",
        "def day_of_the_week(start_date):\n",
        "    start_day_of_the_week = datetime.isoweekday(start_date)\n",
        "    return start_day_of_the_week\n",
        "\n",
        "def calculating_hours(start_day_of_the_week, delta):\n",
        "    first_week = 7 - start_day_of_the_week + 1\n",
        "    first_week_days = first_week - 1\n",
        "    if (start_day_of_the_week < 7):\n",
        "        first_week_days -= 1\n",
        "    if (delta <= first_week_days):\n",
        "        return 8 * delta\n",
        "    if (delta <= first_week):\n",
        "        return 8 * first_week_days\n",
        "    delta -= first_week\n",
        "    middle_weeks = delta // 7\n",
        "    last_week = delta % 7\n",
        "    if (last_week == 6):\n",
        "        last_week = 5\n",
        "    work_days = first_week_days + (middle_weeks * 5) + last_week\n",
        "    return 8 * work_days"
      ]
    },
    {
      "cell_type": "code",
      "execution_count": null,
      "metadata": {
        "id": "pP62WwgdRJQI",
        "colab": {
          "base_uri": "https://localhost:8080/"
        },
        "outputId": "171f09d6-e459-4eb7-c856-2265f6cd04c7"
      },
      "outputs": [
        {
          "output_type": "stream",
          "name": "stdout",
          "text": [
            "Введите дату начала диапазона в формате 2001-01-01: 2001-01-01\n",
            "Введите дату конца диапазона в формату 2021-06-04: 2021-06-04\n",
            "Delta =  7460\n",
            "Start day of the week =  1\n",
            "Total work hours =  42640\n"
          ]
        }
      ],
      "source": [
        "\"\"\"Тестирование задания 2\"\"\"\n",
        "start_date, end_date = input_date()\n",
        "start_date, end_date = date_to_datetime(start_date, end_date)\n",
        "delta = delta_time(start_date, end_date)\n",
        "print('Delta = ', delta)\n",
        "start_day_of_the_week = day_of_the_week(start_date)\n",
        "print('Start day of the week = ', start_day_of_the_week)\n",
        "work_hours = calculating_hours(start_day_of_the_week, delta)\n",
        "print('Total work hours = ', work_hours)"
      ]
    },
    {
      "cell_type": "markdown",
      "metadata": {
        "id": "YJTGDprVRJQI"
      },
      "source": [
        "---\n",
        "\n",
        "Практически всегда в датасетах дата и время представлены строкой в формате ***год-месяц-день часы:минуты:секунды***, например:"
      ]
    },
    {
      "cell_type": "code",
      "execution_count": null,
      "metadata": {
        "id": "EETqCy5MRJQI",
        "outputId": "15627247-e7c4-43df-f458-0d0a6e476f72",
        "colab": {
          "base_uri": "https://localhost:8080/",
          "height": 35
        }
      },
      "outputs": [
        {
          "output_type": "execute_result",
          "data": {
            "text/plain": [
              "'2021-01-02 21:15:06'"
            ],
            "application/vnd.google.colaboratory.intrinsic+json": {
              "type": "string"
            }
          },
          "metadata": {},
          "execution_count": 48
        }
      ],
      "source": [
        "Date_Time = '2021-01-02 21:15:06'\n",
        "Date_Time"
      ]
    },
    {
      "cell_type": "markdown",
      "metadata": {
        "id": "FddRUDYURJQI"
      },
      "source": [
        "В таком виде информация практически не может быть использована в задачах машинного обучения. Поэтому необходимо научиться преобразовывать эту строку и извлекать из нее полезную информацию. Мы уже рассмотрели библиотеку DateTime и можно пользоваться ею, но можно воспользоваться и просто обработкой строки, зная ее формат. Например, мы можем разбить строку на дату и время:"
      ]
    },
    {
      "cell_type": "code",
      "execution_count": null,
      "metadata": {
        "id": "HNW2tmJ-RJQI",
        "outputId": "44452082-38b2-4e54-b858-aaff34413ea8",
        "colab": {
          "base_uri": "https://localhost:8080/"
        }
      },
      "outputs": [
        {
          "output_type": "execute_result",
          "data": {
            "text/plain": [
              "('2021-01-02', '21:15:06')"
            ]
          },
          "metadata": {},
          "execution_count": 49
        }
      ],
      "source": [
        "Date, Time = Date_Time.split()\n",
        "Date, Time"
      ]
    },
    {
      "cell_type": "markdown",
      "metadata": {
        "id": "-ByF00uqRJQJ"
      },
      "source": [
        "Теперь мы можем разбить дату на год, месяц и день, а время - на часы, минуты и секунды:"
      ]
    },
    {
      "cell_type": "code",
      "execution_count": null,
      "metadata": {
        "id": "SaWKDly9RJQJ",
        "outputId": "24d271a5-34a0-4344-8b64-b7f04984ef45",
        "colab": {
          "base_uri": "https://localhost:8080/"
        }
      },
      "outputs": [
        {
          "output_type": "stream",
          "name": "stdout",
          "text": [
            "2021 01 02\n",
            "21 15 06\n"
          ]
        }
      ],
      "source": [
        "Y, M, D = Date.split('-')\n",
        "print(Y, M, D)\n",
        "h, m, s = Time.split(':')\n",
        "print(h, m, s)"
      ]
    },
    {
      "cell_type": "markdown",
      "metadata": {
        "id": "4EJj9c-3RJQJ"
      },
      "source": [
        "В данном способе есть недостаток - результат у нас записан в виде строк:"
      ]
    },
    {
      "cell_type": "code",
      "execution_count": null,
      "metadata": {
        "id": "w5N78bE7RJQJ",
        "outputId": "c4fa39e5-ee5b-4f84-8523-d121e54e8522",
        "colab": {
          "base_uri": "https://localhost:8080/"
        }
      },
      "outputs": [
        {
          "output_type": "execute_result",
          "data": {
            "text/plain": [
              "str"
            ]
          },
          "metadata": {},
          "execution_count": 51
        }
      ],
      "source": [
        "type(Y)"
      ]
    },
    {
      "cell_type": "markdown",
      "metadata": {
        "id": "aOuafoMARJQJ"
      },
      "source": [
        "Чтобы получить целочисленные значения, можно модифицировать код следующим образом:"
      ]
    },
    {
      "cell_type": "code",
      "execution_count": null,
      "metadata": {
        "id": "gwHFnXtORJQJ",
        "outputId": "9db08f28-6d86-4cca-caea-af8bfb2ddaf2",
        "colab": {
          "base_uri": "https://localhost:8080/"
        }
      },
      "outputs": [
        {
          "output_type": "stream",
          "name": "stdout",
          "text": [
            "2021 1 2\n",
            "21 15 6\n"
          ]
        }
      ],
      "source": [
        "Y, M, D = map(int, Date.split('-'))\n",
        "print(Y, M, D)\n",
        "h, m, s = map(int, Time.split(':'))\n",
        "print(h, m, s)"
      ]
    },
    {
      "cell_type": "code",
      "execution_count": null,
      "metadata": {
        "id": "SvxmD-MiRJQJ",
        "outputId": "416fddfa-dc17-450a-9183-9cbcfb97e09b",
        "colab": {
          "base_uri": "https://localhost:8080/"
        }
      },
      "outputs": [
        {
          "output_type": "execute_result",
          "data": {
            "text/plain": [
              "int"
            ]
          },
          "metadata": {},
          "execution_count": 53
        }
      ],
      "source": [
        "type(Y)"
      ]
    },
    {
      "cell_type": "markdown",
      "metadata": {
        "id": "Wfx-SEGPRJQK"
      },
      "source": [
        "---\n",
        "\n",
        "# Задание 3\n",
        "\n",
        "Вам нужно написать функцию, которая из входного объекта datetime будет выделять следующую информацию:\n",
        "\n",
        "1. Дата - в формате ***год-месяц-день***;\n",
        "2. Год;\n",
        "3. Месяц;\n",
        "4. День;\n",
        "5. Порядковый номер недели;\n",
        "6. День недели (например, понедельник);\n",
        "7. Время - в формате ***часы-минуты-секунды***;\n",
        "8. Часы;\n",
        "9. Минуты;\n",
        "10. Секунды;\n",
        "11. Количество секунд с начала дня.\n",
        "\n",
        "Эту функцию необходимо применить к таблице, в которой уже есть колонка с datetime'ами, и добавить в эту таблицу 11 новых столбцов, содержащих в себе значения из пп. 1-11. Очередность и название столбцов такие же, как в списке выше.\n",
        "\n",
        "Добиться результата можно различными способами.\n",
        "\n",
        "Для получения исходной информации необходимо выполнить код:"
      ]
    },
    {
      "cell_type": "code",
      "source": [
        "from google.colab import drive  # если вы выполняете код из среды Google Colab, нужно подключить свой гугл-диск,\n",
        "drive.mount('/content/drive')   # чтобы можно было оттуда считать файл с данными для этого задания"
      ],
      "metadata": {
        "colab": {
          "base_uri": "https://localhost:8080/"
        },
        "id": "4ZYxzzzND3mA",
        "outputId": "0f767744-34be-47ec-ce6a-6b8acac9dd40"
      },
      "execution_count": null,
      "outputs": [
        {
          "output_type": "stream",
          "name": "stdout",
          "text": [
            "Mounted at /content/drive\n"
          ]
        }
      ]
    },
    {
      "cell_type": "code",
      "execution_count": null,
      "metadata": {
        "id": "6LMUlNSURJQK",
        "outputId": "875cde2b-2ecc-419d-eacd-557c25155341",
        "colab": {
          "base_uri": "https://localhost:8080/",
          "height": 389
        }
      },
      "outputs": [
        {
          "output_type": "error",
          "ename": "FileNotFoundError",
          "evalue": "ignored",
          "traceback": [
            "\u001b[0;31m---------------------------------------------------------------------------\u001b[0m",
            "\u001b[0;31mFileNotFoundError\u001b[0m                         Traceback (most recent call last)",
            "\u001b[0;32m<ipython-input-12-4e9f50135e38>\u001b[0m in \u001b[0;36m<module>\u001b[0;34m()\u001b[0m\n\u001b[1;32m      1\u001b[0m \u001b[0;31m# здесь и далее вам понадобится менять пути к файлам, поскольку в вашей системе вы их можете записать в другое место\u001b[0m\u001b[0;34m\u001b[0m\u001b[0;34m\u001b[0m\u001b[0;34m\u001b[0m\u001b[0m\n\u001b[1;32m      2\u001b[0m \u001b[0;34m\u001b[0m\u001b[0m\n\u001b[0;32m----> 3\u001b[0;31m \u001b[0mdata\u001b[0m \u001b[0;34m=\u001b[0m \u001b[0mpd\u001b[0m\u001b[0;34m.\u001b[0m\u001b[0mread_excel\u001b[0m\u001b[0;34m(\u001b[0m\u001b[0;34m'/content/drive/MyDrive/Colab Notebooks/Даты.xlsx'\u001b[0m\u001b[0;34m)\u001b[0m\u001b[0;34m\u001b[0m\u001b[0;34m\u001b[0m\u001b[0m\n\u001b[0m\u001b[1;32m      4\u001b[0m \u001b[0;34m\u001b[0m\u001b[0m\n\u001b[1;32m      5\u001b[0m \u001b[0;31m# data = pd.read_excel('/content/drive/MyDrive/school21/day01/datasets/Даты.xlsx')\u001b[0m\u001b[0;34m\u001b[0m\u001b[0;34m\u001b[0m\u001b[0;34m\u001b[0m\u001b[0m\n",
            "\u001b[0;32m/usr/local/lib/python3.7/dist-packages/pandas/util/_decorators.py\u001b[0m in \u001b[0;36mwrapper\u001b[0;34m(*args, **kwargs)\u001b[0m\n\u001b[1;32m    309\u001b[0m                     \u001b[0mstacklevel\u001b[0m\u001b[0;34m=\u001b[0m\u001b[0mstacklevel\u001b[0m\u001b[0;34m,\u001b[0m\u001b[0;34m\u001b[0m\u001b[0;34m\u001b[0m\u001b[0m\n\u001b[1;32m    310\u001b[0m                 )\n\u001b[0;32m--> 311\u001b[0;31m             \u001b[0;32mreturn\u001b[0m \u001b[0mfunc\u001b[0m\u001b[0;34m(\u001b[0m\u001b[0;34m*\u001b[0m\u001b[0margs\u001b[0m\u001b[0;34m,\u001b[0m \u001b[0;34m**\u001b[0m\u001b[0mkwargs\u001b[0m\u001b[0;34m)\u001b[0m\u001b[0;34m\u001b[0m\u001b[0;34m\u001b[0m\u001b[0m\n\u001b[0m\u001b[1;32m    312\u001b[0m \u001b[0;34m\u001b[0m\u001b[0m\n\u001b[1;32m    313\u001b[0m         \u001b[0;32mreturn\u001b[0m \u001b[0mwrapper\u001b[0m\u001b[0;34m\u001b[0m\u001b[0;34m\u001b[0m\u001b[0m\n",
            "\u001b[0;32m/usr/local/lib/python3.7/dist-packages/pandas/io/excel/_base.py\u001b[0m in \u001b[0;36mread_excel\u001b[0;34m(io, sheet_name, header, names, index_col, usecols, squeeze, dtype, engine, converters, true_values, false_values, skiprows, nrows, na_values, keep_default_na, na_filter, verbose, parse_dates, date_parser, thousands, comment, skipfooter, convert_float, mangle_dupe_cols, storage_options)\u001b[0m\n\u001b[1;32m    362\u001b[0m     \u001b[0;32mif\u001b[0m \u001b[0;32mnot\u001b[0m \u001b[0misinstance\u001b[0m\u001b[0;34m(\u001b[0m\u001b[0mio\u001b[0m\u001b[0;34m,\u001b[0m \u001b[0mExcelFile\u001b[0m\u001b[0;34m)\u001b[0m\u001b[0;34m:\u001b[0m\u001b[0;34m\u001b[0m\u001b[0;34m\u001b[0m\u001b[0m\n\u001b[1;32m    363\u001b[0m         \u001b[0mshould_close\u001b[0m \u001b[0;34m=\u001b[0m \u001b[0;32mTrue\u001b[0m\u001b[0;34m\u001b[0m\u001b[0;34m\u001b[0m\u001b[0m\n\u001b[0;32m--> 364\u001b[0;31m         \u001b[0mio\u001b[0m \u001b[0;34m=\u001b[0m \u001b[0mExcelFile\u001b[0m\u001b[0;34m(\u001b[0m\u001b[0mio\u001b[0m\u001b[0;34m,\u001b[0m \u001b[0mstorage_options\u001b[0m\u001b[0;34m=\u001b[0m\u001b[0mstorage_options\u001b[0m\u001b[0;34m,\u001b[0m \u001b[0mengine\u001b[0m\u001b[0;34m=\u001b[0m\u001b[0mengine\u001b[0m\u001b[0;34m)\u001b[0m\u001b[0;34m\u001b[0m\u001b[0;34m\u001b[0m\u001b[0m\n\u001b[0m\u001b[1;32m    365\u001b[0m     \u001b[0;32melif\u001b[0m \u001b[0mengine\u001b[0m \u001b[0;32mand\u001b[0m \u001b[0mengine\u001b[0m \u001b[0;34m!=\u001b[0m \u001b[0mio\u001b[0m\u001b[0;34m.\u001b[0m\u001b[0mengine\u001b[0m\u001b[0;34m:\u001b[0m\u001b[0;34m\u001b[0m\u001b[0;34m\u001b[0m\u001b[0m\n\u001b[1;32m    366\u001b[0m         raise ValueError(\n",
            "\u001b[0;32m/usr/local/lib/python3.7/dist-packages/pandas/io/excel/_base.py\u001b[0m in \u001b[0;36m__init__\u001b[0;34m(self, path_or_buffer, engine, storage_options)\u001b[0m\n\u001b[1;32m   1190\u001b[0m             \u001b[0;32melse\u001b[0m\u001b[0;34m:\u001b[0m\u001b[0;34m\u001b[0m\u001b[0;34m\u001b[0m\u001b[0m\n\u001b[1;32m   1191\u001b[0m                 ext = inspect_excel_format(\n\u001b[0;32m-> 1192\u001b[0;31m                     \u001b[0mcontent_or_path\u001b[0m\u001b[0;34m=\u001b[0m\u001b[0mpath_or_buffer\u001b[0m\u001b[0;34m,\u001b[0m \u001b[0mstorage_options\u001b[0m\u001b[0;34m=\u001b[0m\u001b[0mstorage_options\u001b[0m\u001b[0;34m\u001b[0m\u001b[0;34m\u001b[0m\u001b[0m\n\u001b[0m\u001b[1;32m   1193\u001b[0m                 )\n\u001b[1;32m   1194\u001b[0m                 \u001b[0;32mif\u001b[0m \u001b[0mext\u001b[0m \u001b[0;32mis\u001b[0m \u001b[0;32mNone\u001b[0m\u001b[0;34m:\u001b[0m\u001b[0;34m\u001b[0m\u001b[0;34m\u001b[0m\u001b[0m\n",
            "\u001b[0;32m/usr/local/lib/python3.7/dist-packages/pandas/io/excel/_base.py\u001b[0m in \u001b[0;36minspect_excel_format\u001b[0;34m(content_or_path, storage_options)\u001b[0m\n\u001b[1;32m   1069\u001b[0m \u001b[0;34m\u001b[0m\u001b[0m\n\u001b[1;32m   1070\u001b[0m     with get_handle(\n\u001b[0;32m-> 1071\u001b[0;31m         \u001b[0mcontent_or_path\u001b[0m\u001b[0;34m,\u001b[0m \u001b[0;34m\"rb\"\u001b[0m\u001b[0;34m,\u001b[0m \u001b[0mstorage_options\u001b[0m\u001b[0;34m=\u001b[0m\u001b[0mstorage_options\u001b[0m\u001b[0;34m,\u001b[0m \u001b[0mis_text\u001b[0m\u001b[0;34m=\u001b[0m\u001b[0;32mFalse\u001b[0m\u001b[0;34m\u001b[0m\u001b[0;34m\u001b[0m\u001b[0m\n\u001b[0m\u001b[1;32m   1072\u001b[0m     ) as handle:\n\u001b[1;32m   1073\u001b[0m         \u001b[0mstream\u001b[0m \u001b[0;34m=\u001b[0m \u001b[0mhandle\u001b[0m\u001b[0;34m.\u001b[0m\u001b[0mhandle\u001b[0m\u001b[0;34m\u001b[0m\u001b[0;34m\u001b[0m\u001b[0m\n",
            "\u001b[0;32m/usr/local/lib/python3.7/dist-packages/pandas/io/common.py\u001b[0m in \u001b[0;36mget_handle\u001b[0;34m(path_or_buf, mode, encoding, compression, memory_map, is_text, errors, storage_options)\u001b[0m\n\u001b[1;32m    709\u001b[0m         \u001b[0;32melse\u001b[0m\u001b[0;34m:\u001b[0m\u001b[0;34m\u001b[0m\u001b[0;34m\u001b[0m\u001b[0m\n\u001b[1;32m    710\u001b[0m             \u001b[0;31m# Binary mode\u001b[0m\u001b[0;34m\u001b[0m\u001b[0;34m\u001b[0m\u001b[0;34m\u001b[0m\u001b[0m\n\u001b[0;32m--> 711\u001b[0;31m             \u001b[0mhandle\u001b[0m \u001b[0;34m=\u001b[0m \u001b[0mopen\u001b[0m\u001b[0;34m(\u001b[0m\u001b[0mhandle\u001b[0m\u001b[0;34m,\u001b[0m \u001b[0mioargs\u001b[0m\u001b[0;34m.\u001b[0m\u001b[0mmode\u001b[0m\u001b[0;34m)\u001b[0m\u001b[0;34m\u001b[0m\u001b[0;34m\u001b[0m\u001b[0m\n\u001b[0m\u001b[1;32m    712\u001b[0m         \u001b[0mhandles\u001b[0m\u001b[0;34m.\u001b[0m\u001b[0mappend\u001b[0m\u001b[0;34m(\u001b[0m\u001b[0mhandle\u001b[0m\u001b[0;34m)\u001b[0m\u001b[0;34m\u001b[0m\u001b[0;34m\u001b[0m\u001b[0m\n\u001b[1;32m    713\u001b[0m \u001b[0;34m\u001b[0m\u001b[0m\n",
            "\u001b[0;31mFileNotFoundError\u001b[0m: [Errno 2] No such file or directory: '/content/drive/MyDrive/Colab Notebooks/Даты.xlsx'"
          ]
        }
      ],
      "source": [
        "# здесь и далее вам понадобится менять пути к файлам, поскольку в вашей системе вы их можете записать в другое место\n",
        "\n",
        "data = pd.read_excel('/content/drive/MyDrive/Colab Notebooks/Даты.xlsx')\n",
        "\n",
        "# data = pd.read_excel('/content/drive/MyDrive/school21/day01/datasets/Даты.xlsx')\n",
        "data"
      ]
    },
    {
      "cell_type": "markdown",
      "metadata": {
        "id": "j3FPk6NeRJQK"
      },
      "source": [
        "Добавлять значения в таблицу можно следующим образом:"
      ]
    },
    {
      "cell_type": "code",
      "execution_count": null,
      "metadata": {
        "id": "jkSXSiVuRJQK",
        "outputId": "d62c6fbc-0a17-4f92-e808-e37e7ecd66f3",
        "colab": {
          "base_uri": "https://localhost:8080/",
          "height": 423
        }
      },
      "outputs": [
        {
          "output_type": "execute_result",
          "data": {
            "text/plain": [
              "               datetime        Дата   Год Месяц День Номер недели День недели  \\\n",
              "0   2021-01-26 17:22:41  2021-01-26  2021    01   26            4           2   \n",
              "1   2013-04-18 14:44:04  2013-04-18  2013    04   18           16           4   \n",
              "2   2017-11-12 21:51:06  2017-11-12  2017    11   12           45           7   \n",
              "3   2001-09-14 22:48:09  2001-09-14  2001    09   14           37           5   \n",
              "4   2012-12-03 18:05:30  2012-12-03  2012    12   03           49           1   \n",
              "..                  ...         ...   ...   ...  ...          ...         ...   \n",
              "95  2002-04-06 14:45:02  2002-04-06  2002    04   06           14           6   \n",
              "96  2010-01-17 19:29:42  2010-01-17  2010    01   17            2           7   \n",
              "97  2016-09-20 13:10:02  2016-09-20  2016    09   20           38           2   \n",
              "98  2019-11-27 15:05:00  2019-11-27  2019    11   27           48           3   \n",
              "99  2005-02-08 18:53:40  2005-02-08  2005    02   08            6           2   \n",
              "\n",
              "       Время Часы Минуты Секунды Секунд с начала дня  \n",
              "0   17:22:41   17     22      41               62561  \n",
              "1   14:44:04   14     44      04               53044  \n",
              "2   21:51:06   21     51      06               78666  \n",
              "3   22:48:09   22     48      09               82089  \n",
              "4   18:05:30   18     05      30               65130  \n",
              "..       ...  ...    ...     ...                 ...  \n",
              "95  14:45:02   14     45      02               53102  \n",
              "96  19:29:42   19     29      42               70182  \n",
              "97  13:10:02   13     10      02               47402  \n",
              "98  15:05:00   15     05      00               54300  \n",
              "99  18:53:40   18     53      40               68020  \n",
              "\n",
              "[100 rows x 12 columns]"
            ],
            "text/html": [
              "\n",
              "  <div id=\"df-9dedc0b0-1a14-4a13-9279-2a85f811b93d\">\n",
              "    <div class=\"colab-df-container\">\n",
              "      <div>\n",
              "<style scoped>\n",
              "    .dataframe tbody tr th:only-of-type {\n",
              "        vertical-align: middle;\n",
              "    }\n",
              "\n",
              "    .dataframe tbody tr th {\n",
              "        vertical-align: top;\n",
              "    }\n",
              "\n",
              "    .dataframe thead th {\n",
              "        text-align: right;\n",
              "    }\n",
              "</style>\n",
              "<table border=\"1\" class=\"dataframe\">\n",
              "  <thead>\n",
              "    <tr style=\"text-align: right;\">\n",
              "      <th></th>\n",
              "      <th>datetime</th>\n",
              "      <th>Дата</th>\n",
              "      <th>Год</th>\n",
              "      <th>Месяц</th>\n",
              "      <th>День</th>\n",
              "      <th>Номер недели</th>\n",
              "      <th>День недели</th>\n",
              "      <th>Время</th>\n",
              "      <th>Часы</th>\n",
              "      <th>Минуты</th>\n",
              "      <th>Секунды</th>\n",
              "      <th>Секунд с начала дня</th>\n",
              "    </tr>\n",
              "  </thead>\n",
              "  <tbody>\n",
              "    <tr>\n",
              "      <th>0</th>\n",
              "      <td>2021-01-26 17:22:41</td>\n",
              "      <td>2021-01-26</td>\n",
              "      <td>2021</td>\n",
              "      <td>01</td>\n",
              "      <td>26</td>\n",
              "      <td>4</td>\n",
              "      <td>2</td>\n",
              "      <td>17:22:41</td>\n",
              "      <td>17</td>\n",
              "      <td>22</td>\n",
              "      <td>41</td>\n",
              "      <td>62561</td>\n",
              "    </tr>\n",
              "    <tr>\n",
              "      <th>1</th>\n",
              "      <td>2013-04-18 14:44:04</td>\n",
              "      <td>2013-04-18</td>\n",
              "      <td>2013</td>\n",
              "      <td>04</td>\n",
              "      <td>18</td>\n",
              "      <td>16</td>\n",
              "      <td>4</td>\n",
              "      <td>14:44:04</td>\n",
              "      <td>14</td>\n",
              "      <td>44</td>\n",
              "      <td>04</td>\n",
              "      <td>53044</td>\n",
              "    </tr>\n",
              "    <tr>\n",
              "      <th>2</th>\n",
              "      <td>2017-11-12 21:51:06</td>\n",
              "      <td>2017-11-12</td>\n",
              "      <td>2017</td>\n",
              "      <td>11</td>\n",
              "      <td>12</td>\n",
              "      <td>45</td>\n",
              "      <td>7</td>\n",
              "      <td>21:51:06</td>\n",
              "      <td>21</td>\n",
              "      <td>51</td>\n",
              "      <td>06</td>\n",
              "      <td>78666</td>\n",
              "    </tr>\n",
              "    <tr>\n",
              "      <th>3</th>\n",
              "      <td>2001-09-14 22:48:09</td>\n",
              "      <td>2001-09-14</td>\n",
              "      <td>2001</td>\n",
              "      <td>09</td>\n",
              "      <td>14</td>\n",
              "      <td>37</td>\n",
              "      <td>5</td>\n",
              "      <td>22:48:09</td>\n",
              "      <td>22</td>\n",
              "      <td>48</td>\n",
              "      <td>09</td>\n",
              "      <td>82089</td>\n",
              "    </tr>\n",
              "    <tr>\n",
              "      <th>4</th>\n",
              "      <td>2012-12-03 18:05:30</td>\n",
              "      <td>2012-12-03</td>\n",
              "      <td>2012</td>\n",
              "      <td>12</td>\n",
              "      <td>03</td>\n",
              "      <td>49</td>\n",
              "      <td>1</td>\n",
              "      <td>18:05:30</td>\n",
              "      <td>18</td>\n",
              "      <td>05</td>\n",
              "      <td>30</td>\n",
              "      <td>65130</td>\n",
              "    </tr>\n",
              "    <tr>\n",
              "      <th>...</th>\n",
              "      <td>...</td>\n",
              "      <td>...</td>\n",
              "      <td>...</td>\n",
              "      <td>...</td>\n",
              "      <td>...</td>\n",
              "      <td>...</td>\n",
              "      <td>...</td>\n",
              "      <td>...</td>\n",
              "      <td>...</td>\n",
              "      <td>...</td>\n",
              "      <td>...</td>\n",
              "      <td>...</td>\n",
              "    </tr>\n",
              "    <tr>\n",
              "      <th>95</th>\n",
              "      <td>2002-04-06 14:45:02</td>\n",
              "      <td>2002-04-06</td>\n",
              "      <td>2002</td>\n",
              "      <td>04</td>\n",
              "      <td>06</td>\n",
              "      <td>14</td>\n",
              "      <td>6</td>\n",
              "      <td>14:45:02</td>\n",
              "      <td>14</td>\n",
              "      <td>45</td>\n",
              "      <td>02</td>\n",
              "      <td>53102</td>\n",
              "    </tr>\n",
              "    <tr>\n",
              "      <th>96</th>\n",
              "      <td>2010-01-17 19:29:42</td>\n",
              "      <td>2010-01-17</td>\n",
              "      <td>2010</td>\n",
              "      <td>01</td>\n",
              "      <td>17</td>\n",
              "      <td>2</td>\n",
              "      <td>7</td>\n",
              "      <td>19:29:42</td>\n",
              "      <td>19</td>\n",
              "      <td>29</td>\n",
              "      <td>42</td>\n",
              "      <td>70182</td>\n",
              "    </tr>\n",
              "    <tr>\n",
              "      <th>97</th>\n",
              "      <td>2016-09-20 13:10:02</td>\n",
              "      <td>2016-09-20</td>\n",
              "      <td>2016</td>\n",
              "      <td>09</td>\n",
              "      <td>20</td>\n",
              "      <td>38</td>\n",
              "      <td>2</td>\n",
              "      <td>13:10:02</td>\n",
              "      <td>13</td>\n",
              "      <td>10</td>\n",
              "      <td>02</td>\n",
              "      <td>47402</td>\n",
              "    </tr>\n",
              "    <tr>\n",
              "      <th>98</th>\n",
              "      <td>2019-11-27 15:05:00</td>\n",
              "      <td>2019-11-27</td>\n",
              "      <td>2019</td>\n",
              "      <td>11</td>\n",
              "      <td>27</td>\n",
              "      <td>48</td>\n",
              "      <td>3</td>\n",
              "      <td>15:05:00</td>\n",
              "      <td>15</td>\n",
              "      <td>05</td>\n",
              "      <td>00</td>\n",
              "      <td>54300</td>\n",
              "    </tr>\n",
              "    <tr>\n",
              "      <th>99</th>\n",
              "      <td>2005-02-08 18:53:40</td>\n",
              "      <td>2005-02-08</td>\n",
              "      <td>2005</td>\n",
              "      <td>02</td>\n",
              "      <td>08</td>\n",
              "      <td>6</td>\n",
              "      <td>2</td>\n",
              "      <td>18:53:40</td>\n",
              "      <td>18</td>\n",
              "      <td>53</td>\n",
              "      <td>40</td>\n",
              "      <td>68020</td>\n",
              "    </tr>\n",
              "  </tbody>\n",
              "</table>\n",
              "<p>100 rows × 12 columns</p>\n",
              "</div>\n",
              "      <button class=\"colab-df-convert\" onclick=\"convertToInteractive('df-9dedc0b0-1a14-4a13-9279-2a85f811b93d')\"\n",
              "              title=\"Convert this dataframe to an interactive table.\"\n",
              "              style=\"display:none;\">\n",
              "        \n",
              "  <svg xmlns=\"http://www.w3.org/2000/svg\" height=\"24px\"viewBox=\"0 0 24 24\"\n",
              "       width=\"24px\">\n",
              "    <path d=\"M0 0h24v24H0V0z\" fill=\"none\"/>\n",
              "    <path d=\"M18.56 5.44l.94 2.06.94-2.06 2.06-.94-2.06-.94-.94-2.06-.94 2.06-2.06.94zm-11 1L8.5 8.5l.94-2.06 2.06-.94-2.06-.94L8.5 2.5l-.94 2.06-2.06.94zm10 10l.94 2.06.94-2.06 2.06-.94-2.06-.94-.94-2.06-.94 2.06-2.06.94z\"/><path d=\"M17.41 7.96l-1.37-1.37c-.4-.4-.92-.59-1.43-.59-.52 0-1.04.2-1.43.59L10.3 9.45l-7.72 7.72c-.78.78-.78 2.05 0 2.83L4 21.41c.39.39.9.59 1.41.59.51 0 1.02-.2 1.41-.59l7.78-7.78 2.81-2.81c.8-.78.8-2.07 0-2.86zM5.41 20L4 18.59l7.72-7.72 1.47 1.35L5.41 20z\"/>\n",
              "  </svg>\n",
              "      </button>\n",
              "      \n",
              "  <style>\n",
              "    .colab-df-container {\n",
              "      display:flex;\n",
              "      flex-wrap:wrap;\n",
              "      gap: 12px;\n",
              "    }\n",
              "\n",
              "    .colab-df-convert {\n",
              "      background-color: #E8F0FE;\n",
              "      border: none;\n",
              "      border-radius: 50%;\n",
              "      cursor: pointer;\n",
              "      display: none;\n",
              "      fill: #1967D2;\n",
              "      height: 32px;\n",
              "      padding: 0 0 0 0;\n",
              "      width: 32px;\n",
              "    }\n",
              "\n",
              "    .colab-df-convert:hover {\n",
              "      background-color: #E2EBFA;\n",
              "      box-shadow: 0px 1px 2px rgba(60, 64, 67, 0.3), 0px 1px 3px 1px rgba(60, 64, 67, 0.15);\n",
              "      fill: #174EA6;\n",
              "    }\n",
              "\n",
              "    [theme=dark] .colab-df-convert {\n",
              "      background-color: #3B4455;\n",
              "      fill: #D2E3FC;\n",
              "    }\n",
              "\n",
              "    [theme=dark] .colab-df-convert:hover {\n",
              "      background-color: #434B5C;\n",
              "      box-shadow: 0px 1px 3px 1px rgba(0, 0, 0, 0.15);\n",
              "      filter: drop-shadow(0px 1px 2px rgba(0, 0, 0, 0.3));\n",
              "      fill: #FFFFFF;\n",
              "    }\n",
              "  </style>\n",
              "\n",
              "      <script>\n",
              "        const buttonEl =\n",
              "          document.querySelector('#df-9dedc0b0-1a14-4a13-9279-2a85f811b93d button.colab-df-convert');\n",
              "        buttonEl.style.display =\n",
              "          google.colab.kernel.accessAllowed ? 'block' : 'none';\n",
              "\n",
              "        async function convertToInteractive(key) {\n",
              "          const element = document.querySelector('#df-9dedc0b0-1a14-4a13-9279-2a85f811b93d');\n",
              "          const dataTable =\n",
              "            await google.colab.kernel.invokeFunction('convertToInteractive',\n",
              "                                                     [key], {});\n",
              "          if (!dataTable) return;\n",
              "\n",
              "          const docLinkHtml = 'Like what you see? Visit the ' +\n",
              "            '<a target=\"_blank\" href=https://colab.research.google.com/notebooks/data_table.ipynb>data table notebook</a>'\n",
              "            + ' to learn more about interactive tables.';\n",
              "          element.innerHTML = '';\n",
              "          dataTable['output_type'] = 'display_data';\n",
              "          await google.colab.output.renderOutput(dataTable, element);\n",
              "          const docLink = document.createElement('div');\n",
              "          docLink.innerHTML = docLinkHtml;\n",
              "          element.appendChild(docLink);\n",
              "        }\n",
              "      </script>\n",
              "    </div>\n",
              "  </div>\n",
              "  "
            ]
          },
          "metadata": {},
          "execution_count": 11
        }
      ],
      "source": [
        "\n",
        "data['Дата'] = ''\n",
        "data['Год'] = ''\n",
        "data['Месяц'] = ''\n",
        "data['День'] = ''\n",
        "data['Номер недели'] = ''\n",
        "data['День недели'] = ''\n",
        "data['Время'] = ''\n",
        "data['Часы'] = ''\n",
        "data['Минуты'] = ''\n",
        "data['Секунды'] = ''\n",
        "data['Секунд с начала дня'] = ''\n",
        "for i in range(100) :\n",
        "    data['Дата'][i], data['Время'][i] = (data['datetime'][i]).split()\n",
        "    data['Год'][i], data['Месяц'][i], data['День'][i] = (data['Дата'][i]).split('-')\n",
        "    data['Часы'][i], data['Минуты'][i], data['Секунды'][i] = (data['Время'][i]).split(':')\n",
        "    _, data['Номер недели'][i], data['День недели'][i]  = date.isocalendar(datetime.strptime(data['Дата'][i], '%Y-%m-%d'))\n",
        "    delta = datetime.strptime(data['datetime'][i], '%Y-%m-%d %H:%M:%S') - datetime.strptime(data['Дата'][i], '%Y-%m-%d')\n",
        "    data['Секунд с начала дня'][i] = delta.seconds\n",
        "\n",
        "data"
      ]
    },
    {
      "cell_type": "markdown",
      "metadata": {
        "id": "Ph43gYpzRJQK"
      },
      "source": [
        "Сохранить полученный результат можно следующим образом:"
      ]
    },
    {
      "cell_type": "code",
      "execution_count": null,
      "metadata": {
        "id": "mxHRat2ERJQK"
      },
      "outputs": [],
      "source": [
        "nik_name = 'jkassand-ds-beginner'\n",
        "data.to_excel('/content/drive/MyDrive/Colab Notebooks/Даты '+nik_name+'.xlsx', index=False)"
      ]
    },
    {
      "cell_type": "markdown",
      "source": [
        "Для выполнения задания вам нужно будет сохранить новый файл в ту же папку, откуда мы берем файл Даты.xlsx"
      ],
      "metadata": {
        "id": "iaGYRACRmF-u"
      }
    },
    {
      "cell_type": "markdown",
      "metadata": {
        "id": "BEm_k9fqRJQL"
      },
      "source": [
        "Good_luck = 'Удачи!'"
      ]
    }
  ],
  "metadata": {
    "kernelspec": {
      "display_name": "Python 3",
      "language": "python",
      "name": "python3"
    },
    "language_info": {
      "codemirror_mode": {
        "name": "ipython",
        "version": 3
      },
      "file_extension": ".py",
      "mimetype": "text/x-python",
      "name": "python",
      "nbconvert_exporter": "python",
      "pygments_lexer": "ipython3",
      "version": "3.7.6"
    },
    "colab": {
      "name": "d01_desc.ipynb",
      "provenance": [],
      "include_colab_link": true
    }
  },
  "nbformat": 4,
  "nbformat_minor": 0
}